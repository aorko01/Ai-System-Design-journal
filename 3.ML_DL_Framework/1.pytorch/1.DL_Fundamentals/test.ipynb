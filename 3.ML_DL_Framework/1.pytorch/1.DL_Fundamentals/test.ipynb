{
 "cells": [
  {
   "cell_type": "code",
   "execution_count": 3,
   "id": "6af15d99",
   "metadata": {},
   "outputs": [
    {
     "name": "stdout",
     "output_type": "stream",
     "text": [
      "2.7.1+cu118\n"
     ]
    }
   ],
   "source": [
    "import torch\n",
    "print(torch.__version__)"
   ]
  },
  {
   "cell_type": "code",
   "execution_count": 4,
   "id": "077484cd",
   "metadata": {},
   "outputs": [
    {
     "name": "stdout",
     "output_type": "stream",
     "text": [
      "CUDA is available!\n",
      "GPU Device Name: NVIDIA GeForce RTX 3060\n",
      "Tensor x:\n",
      " tensor([[ 0.2775, -2.1411,  0.2302],\n",
      "        [ 1.3265, -0.3509,  1.3754],\n",
      "        [-0.3426,  1.6515, -0.2335]], device='cuda:0')\n",
      "Tensor y:\n",
      " tensor([[-0.4109, -0.5895, -3.0762],\n",
      "        [-0.2012, -0.3372,  2.2333],\n",
      "        [-0.2090, -1.2054,  0.1745]], device='cuda:0')\n",
      "x + y =\n",
      " tensor([[-0.1334, -2.7306, -2.8460],\n",
      "        [ 1.1253, -0.6881,  3.6088],\n",
      "        [-0.5516,  0.4461, -0.0590]], device='cuda:0')\n",
      "Current device: cuda:0\n"
     ]
    }
   ],
   "source": [
    "import torch\n",
    "\n",
    "# Check if CUDA is available\n",
    "if torch.cuda.is_available():\n",
    "    device = torch.device(\"cuda\")\n",
    "    print(\"CUDA is available!\")\n",
    "    print(\"GPU Device Name:\", torch.cuda.get_device_name(0))\n",
    "else:\n",
    "    device = torch.device(\"cpu\")\n",
    "    print(\"CUDA is not available, using CPU instead.\")\n",
    "\n",
    "# Create a random tensor and move it to GPU\n",
    "x = torch.randn(3, 3).to(device)\n",
    "y = torch.randn(3, 3).to(device)\n",
    "\n",
    "# Perform a simple operation\n",
    "z = x + y\n",
    "\n",
    "print(\"Tensor x:\\n\", x)\n",
    "print(\"Tensor y:\\n\", y)\n",
    "print(\"x + y =\\n\", z)\n",
    "\n",
    "# Check current device\n",
    "print(\"Current device:\", z.device)\n"
   ]
  }
 ],
 "metadata": {
  "kernelspec": {
   "display_name": "myenv",
   "language": "python",
   "name": "python3"
  },
  "language_info": {
   "codemirror_mode": {
    "name": "ipython",
    "version": 3
   },
   "file_extension": ".py",
   "mimetype": "text/x-python",
   "name": "python",
   "nbconvert_exporter": "python",
   "pygments_lexer": "ipython3",
   "version": "3.10.12"
  }
 },
 "nbformat": 4,
 "nbformat_minor": 5
}
